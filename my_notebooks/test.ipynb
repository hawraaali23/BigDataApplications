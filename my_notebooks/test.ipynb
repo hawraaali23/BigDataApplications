{
 "cells": [
  {
   "cell_type": "code",
   "execution_count": null,
   "metadata": {},
   "outputs": [],
   "source": [
    "https://raw.githubusercontent.com/DrSYakovlev/m32895-public/refs/heads/main/raw_datasets/lin_regr_walkthrough/medical-charges.csv"
   ]
  }
 ],
 "metadata": {
  "language_info": {
   "name": "python"
  }
 },
 "nbformat": 4,
 "nbformat_minor": 2
}
