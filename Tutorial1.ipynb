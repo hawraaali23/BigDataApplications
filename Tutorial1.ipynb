{
  "nbformat": 4,
  "nbformat_minor": 0,
  "metadata": {
    "colab": {
      "provenance": [],
      "authorship_tag": "ABX9TyNMho5+U3JkR2Rg2AmEyZ/U",
      "include_colab_link": true
    },
    "kernelspec": {
      "name": "python3",
      "display_name": "Python 3"
    },
    "language_info": {
      "name": "python"
    }
  },
  "cells": [
    {
      "cell_type": "markdown",
      "metadata": {
        "id": "view-in-github",
        "colab_type": "text"
      },
      "source": [
        "<a href=\"https://colab.research.google.com/github/hawraaali23/BigDataApplications/blob/main/Tutorial1.ipynb\" target=\"_parent\"><img src=\"https://colab.research.google.com/assets/colab-badge.svg\" alt=\"Open In Colab\"/></a>"
      ]
    },
    {
      "cell_type": "code",
      "execution_count": null,
      "metadata": {
        "colab": {
          "base_uri": "https://localhost:8080/"
        },
        "id": "OjSQIie9tcuo",
        "outputId": "45b4f532-f071-40de-f8d5-1f49fdd9c470"
      },
      "outputs": [
        {
          "output_type": "stream",
          "name": "stdout",
          "text": [
            "test message\n",
            "4\n",
            "Today is Monday\n"
          ]
        }
      ],
      "source": [
        "print(\"test message\") #printng string\n",
        "print(2+2) #printing result of equation\n",
        "weekday = \"Monday\"\n",
        "print(f\"Today is {weekday}\") #string literarls"
      ]
    },
    {
      "cell_type": "code",
      "source": [
        "a = 5\n",
        "my_name = \"Hawraa\"\n",
        "my_object = {\n",
        "    \"flat\": 20,\n",
        "    \"type\": \"residential\"\n",
        "}\n",
        "my_list = [1, 2 ,3.4]"
      ],
      "metadata": {
        "id": "hITU-UyWvA1U"
      },
      "execution_count": null,
      "outputs": []
    },
    {
      "cell_type": "code",
      "source": [
        "print(type(\"Hello, world!\"))\n",
        "print(type(42))\n",
        "print(type(3.145))\n",
        "print(type(1j))\n",
        "print(type([\"egg\", \"bacon\", \"spam\"]))\n",
        "print(type((\"egg\", \"bacon\", \"spam\")))\n",
        "print(type(range(6)))\n",
        "print(type({\"name\" : \"Hawraa\", \"age\" : 22}))\n",
        "print(type({\"egg\", \"bacon\", \"spam\"}))\n",
        "print(type(True))\n",
        "print(isinstance(3.14, int))"
      ],
      "metadata": {
        "colab": {
          "base_uri": "https://localhost:8080/"
        },
        "id": "voLhRy33wM0x",
        "outputId": "228503c5-c549-4a95-b8e2-06d5944bbed6"
      },
      "execution_count": null,
      "outputs": [
        {
          "output_type": "stream",
          "name": "stdout",
          "text": [
            "<class 'str'>\n",
            "<class 'int'>\n",
            "<class 'float'>\n",
            "<class 'complex'>\n",
            "<class 'list'>\n",
            "<class 'tuple'>\n",
            "<class 'range'>\n",
            "<class 'dict'>\n",
            "<class 'set'>\n",
            "<class 'bool'>\n",
            "False\n"
          ]
        }
      ]
    },
    {
      "cell_type": "code",
      "source": [
        "print(\"Then Mike said 'what is that?'\")\n",
        "print(\"it's a beautiful day\")"
      ],
      "metadata": {
        "colab": {
          "base_uri": "https://localhost:8080/"
        },
        "id": "b5-4yJrWyAHs",
        "outputId": "230f33ee-70a7-49ef-b8fb-61c70fdc4fbc"
      },
      "execution_count": null,
      "outputs": [
        {
          "output_type": "stream",
          "name": "stdout",
          "text": [
            "Then Mike said 'what is that?'\n",
            "it's a beautiful day\n"
          ]
        }
      ]
    },
    {
      "cell_type": "code",
      "source": [
        "print('hello' == 'hello')\n",
        "print(2!=2)\n",
        "print([1,2]<[1,2,3])\n",
        "print(float(2)>=int(2))\n",
        "print('a'<'A')"
      ],
      "metadata": {
        "colab": {
          "base_uri": "https://localhost:8080/"
        },
        "id": "4DIsjn2QzVj0",
        "outputId": "7b7ef03b-7491-48e9-8842-a5373740d1f0"
      },
      "execution_count": null,
      "outputs": [
        {
          "output_type": "stream",
          "name": "stdout",
          "text": [
            "True\n",
            "False\n",
            "True\n",
            "True\n",
            "False\n"
          ]
        }
      ]
    },
    {
      "cell_type": "code",
      "source": [
        "print(True and True)\n",
        "print(True and False)\n",
        "print(True or False)\n",
        "print(not(4<5 and 4<10))"
      ],
      "metadata": {
        "colab": {
          "base_uri": "https://localhost:8080/"
        },
        "id": "k0BQJTNP0MG5",
        "outputId": "82f063e1-7d09-4234-83a2-29ca7debd89f"
      },
      "execution_count": null,
      "outputs": [
        {
          "output_type": "stream",
          "name": "stdout",
          "text": [
            "True\n",
            "False\n",
            "True\n",
            "False\n"
          ]
        }
      ]
    },
    {
      "cell_type": "code",
      "source": [
        "number = int(input(\"Enter a number: \"))\n",
        "\n",
        "if number == 10:\n",
        "  print(f\"{number} is equal to 10.\")\n",
        "else:\n",
        "  print(f\"{number} is not equal to 10.\")"
      ],
      "metadata": {
        "colab": {
          "base_uri": "https://localhost:8080/"
        },
        "id": "I_jVSxRi0kIC",
        "outputId": "51598ca8-df70-4e62-e13b-53751b4c3e92"
      },
      "execution_count": null,
      "outputs": [
        {
          "output_type": "stream",
          "name": "stdout",
          "text": [
            "Enter a number: 2\n",
            "2 is not equal to 10.\n"
          ]
        }
      ]
    },
    {
      "cell_type": "code",
      "source": [
        "age = input(\"What is your age? \").strip()\n",
        "age = int(age)\n",
        "if age <= 5:\n",
        "  price = \"Free!\"\n",
        "elif age <= 12:\n",
        "  price = \"$5\"\n",
        "elif age <= 17:\n",
        "  price = \"$8\"\n",
        "elif age <= 59:\n",
        "  price = \"$12\"\n",
        "else:\n",
        "  price = \"Free!\"\n",
        "\n",
        "print(f\"since you are {age} years old, your ticket price is {price}.\")"
      ],
      "metadata": {
        "colab": {
          "base_uri": "https://localhost:8080/"
        },
        "id": "01PtpgxS1J_3",
        "outputId": "7fc63fc9-3dce-4142-d12d-b8d725aa0f52"
      },
      "execution_count": null,
      "outputs": [
        {
          "output_type": "stream",
          "name": "stdout",
          "text": [
            "What is your age? 22\n",
            "since you are 22 years old, your ticket price is $12.\n"
          ]
        }
      ]
    },
    {
      "cell_type": "code",
      "source": [],
      "metadata": {
        "id": "Gr8XEP8O4HPE"
      },
      "execution_count": null,
      "outputs": []
    }
  ]
}